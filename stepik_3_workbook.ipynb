{
 "cells": [
  {
   "cell_type": "code",
   "execution_count": 9,
   "id": "a42b8118",
   "metadata": {},
   "outputs": [],
   "source": [
    "import pandas as pd"
   ]
  },
  {
   "cell_type": "markdown",
   "id": "487c1e2d",
   "metadata": {},
   "source": [
    "*Строка names содержит имена в формате 'Name1 Surname1, Name2 Surname2, …'.\n",
    "Поместите в переменную names_list список со строками имён – ['Name1 Surname1', 'Name2 Surname2', …]*"
   ]
  },
  {
   "cell_type": "code",
   "execution_count": 17,
   "id": "8c8265b9",
   "metadata": {},
   "outputs": [
    {
     "data": {
      "text/plain": [
       "['Name1 Surname1', 'Name2 Surname2']"
      ]
     },
     "execution_count": 17,
     "metadata": {},
     "output_type": "execute_result"
    }
   ],
   "source": [
    "names = 'Name1 Surname1, Name2 Surname2'\n",
    "names_list = names.split(', ')\n",
    "names_list"
   ]
  },
  {
   "attachments": {
    "image.png": {
     "image/png": "[encoded data removed]"
    }
   },
   "cell_type": "markdown",
   "id": "427cc39e",
   "metadata": {},
   "source": [
    "В переменной df содержатся данные следующего вида ![image.png](attachment:image.png) \n",
    "Отберите из них только те, где wealth принимает значение 'medium', а возраст составляет больше 35. Поместите результат в переменную medium_35."
   ]
  },
  {
   "cell_type": "code",
   "execution_count": null,
   "id": "a3759ce7",
   "metadata": {},
   "outputs": [],
   "source": [
    "df = pd.DataFrame([[2.0, 1.0],\n",
    "                   [3.0, np.nan],\n",
    "                   [1.0, 0.0]],\n",
    "                  columns=list('AB'))"
   ]
  }
 ],
 "metadata": {
  "kernelspec": {
   "display_name": "Python 3 (ipykernel)",
   "language": "python",
   "name": "python3"
  },
  "language_info": {
   "codemirror_mode": {
    "name": "ipython",
    "version": 3
   },
   "file_extension": ".py",
   "mimetype": "text/x-python",
   "name": "python",
   "nbconvert_exporter": "python",
   "pygments_lexer": "ipython3",
   "version": "3.10.9"
  }
 },
 "nbformat": 4,
 "nbformat_minor": 5
}
