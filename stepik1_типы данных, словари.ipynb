{
 "cells": [
  {
   "cell_type": "markdown",
   "id": "b7efcdac",
   "metadata": {},
   "source": [
    "Вы можете использовать цикл for для перебора элементов списка workers и форматированную строку\n",
    "для вывода информации о каждом сотруднике:"
   ]
  },
  {
   "cell_type": "code",
   "execution_count": null,
   "id": "c15f04a9",
   "metadata": {},
   "outputs": [],
   "source": [
    "workers = [['Ivan', 'Ivanov', 100000, 2], ['Petr', 'Petrov', 150000, 2], ['Sidor', 'Sidorov', 200000, 3]]\n",
    "\n",
    "for worker in workers:\n",
    "    name, surname, salary, experience = worker\n",
    "    if experience < 2:\n",
    "        position = 'junior'\n",
    "    elif experience >= 2 and experience <= 5:\n",
    "        position = 'middle'\n",
    "    else:\n",
    "        position = 'senior'\n",
    "    print(f\"{name} {surname} is {position}\")"
   ]
  },
  {
   "cell_type": "markdown",
   "id": "19214059",
   "metadata": {},
   "source": [
    "В этом примере мы используем цикл for для перебора каждого элемента worker в списке workers.\n",
    "Затем мы извлекаем имя, фамилию, зарплату и стаж из каждого элемента с помощью множественного присваивания.\n",
    "Далее мы используем условный оператор if для определения должности (position) на основе стажа (experience).\n",
    "Наконец, мы выводим строку, используя форматирование строк,\n",
    "которое подставляет значения name, surname и position в нужные места в строке."
   ]
  },
  {
   "cell_type": "code",
   "execution_count": null,
   "id": "25e38852",
   "metadata": {},
   "outputs": [],
   "source": []
  },
  {
   "cell_type": "code",
   "execution_count": null,
   "id": "fcfcfd26",
   "metadata": {},
   "outputs": [],
   "source": []
  },
  {
   "cell_type": "code",
   "execution_count": 3,
   "id": "d00baa11",
   "metadata": {},
   "outputs": [],
   "source": [
    "users = [0, 2]"
   ]
  },
  {
   "cell_type": "code",
   "execution_count": 6,
   "id": "6f66f476",
   "metadata": {},
   "outputs": [],
   "source": [
    "users.extend([25, 'test'])"
   ]
  },
  {
   "cell_type": "code",
   "execution_count": 7,
   "id": "453a77a1",
   "metadata": {},
   "outputs": [
    {
     "data": {
      "text/plain": [
       "[0, 2, 25, 'test']"
      ]
     },
     "execution_count": 7,
     "metadata": {},
     "output_type": "execute_result"
    }
   ],
   "source": [
    "users"
   ]
  },
  {
   "cell_type": "code",
   "execution_count": 8,
   "id": "8079dda8",
   "metadata": {},
   "outputs": [],
   "source": [
    "users.append([3.4, 'test2'])"
   ]
  },
  {
   "cell_type": "code",
   "execution_count": 9,
   "id": "a54d4c68",
   "metadata": {},
   "outputs": [
    {
     "data": {
      "text/plain": [
       "[0, 2, 25, 'test', [3.4, 'test2']]"
      ]
     },
     "execution_count": 9,
     "metadata": {},
     "output_type": "execute_result"
    }
   ],
   "source": [
    "users"
   ]
  },
  {
   "cell_type": "code",
   "execution_count": 10,
   "id": "a5c9d73f",
   "metadata": {},
   "outputs": [],
   "source": [
    "user_ages = [10, 18, 21, 35, 42, 27, 12, 16]"
   ]
  },
  {
   "cell_type": "code",
   "execution_count": 12,
   "id": "86c5e1f7",
   "metadata": {},
   "outputs": [
    {
     "name": "stdout",
     "output_type": "stream",
     "text": [
      "21\n",
      "35\n",
      "42\n",
      "27\n"
     ]
    }
   ],
   "source": [
    "for i in user_ages:\n",
    "    if i > 18:\n",
    "        print(i)"
   ]
  },
  {
   "cell_type": "code",
   "execution_count": 35,
   "id": "5a30216d",
   "metadata": {},
   "outputs": [],
   "source": [
    "worker = ['Olya', 'Silyutina', 350000, 6]"
   ]
  },
  {
   "cell_type": "code",
   "execution_count": 18,
   "id": "149c76f2",
   "metadata": {},
   "outputs": [],
   "source": [
    "status = '{} {} is {}'"
   ]
  },
  {
   "cell_type": "code",
   "execution_count": 36,
   "id": "efbe7395",
   "metadata": {},
   "outputs": [],
   "source": [
    "if worker[3] > 5:\n",
    "    position = 'Senior'\n",
    "elif worker[3] >= 2:\n",
    "    position = 'Middle'\n",
    "else:\n",
    "    position = 'Junior'"
   ]
  },
  {
   "cell_type": "code",
   "execution_count": 39,
   "id": "c504332e",
   "metadata": {},
   "outputs": [],
   "source": [
    "status = status.format(worker[0],  worker[1], position)"
   ]
  },
  {
   "cell_type": "code",
   "execution_count": 40,
   "id": "70d0eeae",
   "metadata": {},
   "outputs": [
    {
     "data": {
      "text/plain": [
       "'Olya Silyutina is Senior'"
      ]
     },
     "execution_count": 40,
     "metadata": {},
     "output_type": "execute_result"
    }
   ],
   "source": [
    "status"
   ]
  },
  {
   "cell_type": "code",
   "execution_count": null,
   "id": "b0a8f3a4",
   "metadata": {},
   "outputs": [],
   "source": []
  },
  {
   "cell_type": "code",
   "execution_count": 51,
   "id": "3cc0dbb8",
   "metadata": {},
   "outputs": [],
   "source": [
    "values = [12, 134, 10, 47, 100, 20, 50, 160, 210]"
   ]
  },
  {
   "cell_type": "code",
   "execution_count": 57,
   "id": "c3f96a6a",
   "metadata": {},
   "outputs": [
    {
     "data": {
      "text/plain": [
       "[10, 100, 20, 50, 160, 210]"
      ]
     },
     "execution_count": 57,
     "metadata": {},
     "output_type": "execute_result"
    }
   ],
   "source": [
    "tens = []\n",
    "for i in values:\n",
    "    if i % 10 == 0:\n",
    "        tens.append(i)\n",
    "tens"
   ]
  },
  {
   "cell_type": "code",
   "execution_count": 47,
   "id": "96ee6a44",
   "metadata": {},
   "outputs": [
    {
     "data": {
      "text/plain": [
       "5"
      ]
     },
     "execution_count": 47,
     "metadata": {},
     "output_type": "execute_result"
    }
   ],
   "source": [
    "35%10"
   ]
  },
  {
   "cell_type": "code",
   "execution_count": 58,
   "id": "84b691b6",
   "metadata": {},
   "outputs": [],
   "source": [
    "workers = [['Ivan', 'Ivanov', 100000, 2], ['Petr', 'Petrov', 150000, 2], ['Sidor', 'Sidorov', 200000, 3]]"
   ]
  },
  {
   "cell_type": "code",
   "execution_count": 59,
   "id": "03c1faed",
   "metadata": {},
   "outputs": [
    {
     "name": "stdout",
     "output_type": "stream",
     "text": [
      "['Ivan', 'Ivanov', 100000, 2]\n",
      "['Petr', 'Petrov', 150000, 2]\n",
      "['Sidor', 'Sidorov', 200000, 3]\n"
     ]
    }
   ],
   "source": [
    "for i in workers:\n",
    "    print(i)"
   ]
  },
  {
   "cell_type": "code",
   "execution_count": 73,
   "id": "c6f8c0a7",
   "metadata": {},
   "outputs": [
    {
     "name": "stdout",
     "output_type": "stream",
     "text": [
      "Ivan Ivanov is middle\n",
      "Petr Petrov is middle\n",
      "Sidor Sidorov is middle\n"
     ]
    }
   ],
   "source": [
    "status = '{} {} is {}'\n",
    "for i in workers:\n",
    "    if i[3] > 5:\n",
    "        position = 'senior'\n",
    "    elif i[3] >= 2:\n",
    "        position = 'middle'\n",
    "    else:\n",
    "        position = 'junior'\n",
    "    print(status.format(i[0], i[1], position))    "
   ]
  },
  {
   "cell_type": "code",
   "execution_count": 80,
   "id": "704edc34",
   "metadata": {},
   "outputs": [
    {
     "data": {
      "text/plain": [
       "[0, 2, 4, 6, 8, 10]"
      ]
     },
     "execution_count": 80,
     "metadata": {},
     "output_type": "execute_result"
    }
   ],
   "source": [
    "lst = []\n",
    "n = 0\n",
    "N = 10\n",
    "dn = 2\n",
    "while N >= n:\n",
    "    lst.append(n)\n",
    "    n += dn\n",
    "lst"
   ]
  },
  {
   "cell_type": "code",
   "execution_count": 82,
   "id": "9f76140b",
   "metadata": {},
   "outputs": [],
   "source": [
    "salaries_dict = {'name': 'Masha', 'surname': 'Volkova', 'age': 25, 'salary': 60000, 'position': 'junior'}"
   ]
  },
  {
   "cell_type": "code",
   "execution_count": 83,
   "id": "e7ed9c70",
   "metadata": {},
   "outputs": [
    {
     "data": {
      "text/plain": [
       "{'name': 'Masha',\n",
       " 'surname': 'Volkova',\n",
       " 'age': 25,\n",
       " 'salary': 60000,\n",
       " 'position': 'junior'}"
      ]
     },
     "execution_count": 83,
     "metadata": {},
     "output_type": "execute_result"
    }
   ],
   "source": [
    "salaries_dict"
   ]
  },
  {
   "cell_type": "code",
   "execution_count": null,
   "id": "6b7c29bc",
   "metadata": {},
   "outputs": [],
   "source": [
    "login\tname\tsurname\tage\tsalary\tposition\n",
    "mvolkova\tMasha\tVolkova\t25\t60000\tjunior\n",
    "pvoronov\tPeter\tVoronov\t27\t100000\tjunior\n",
    "pparker\tPeter\tParker\t35\t150000\tmiddle\n",
    "akarpov\tAnatoly\tKarpov\t30\t250000\tsenior"
   ]
  },
  {
   "cell_type": "code",
   "execution_count": 84,
   "id": "8e36cb41",
   "metadata": {},
   "outputs": [],
   "source": [
    "logins = ['mvolkova', 'pvoronov', 'pparker', 'akarpov']\n",
    "names = ['Masha', 'Peter', 'Peter', 'Anatoly']\n",
    "surnames = ['Volkova', 'Voronov', 'Parker', 'Karpov']\n",
    "ages = [25, 27, 35, 30]\n",
    "salaries = [60000, 100000, 150000, 250000]\n",
    "positions = ['junior', 'junior', 'middle', 'senior']\n",
    "\n",
    "users = {}\n",
    "for i in range(len(logins)):\n",
    "    users[logins[i]] = {\n",
    "        'name': names[i],\n",
    "        'surname': surnames[i],\n",
    "        'age': ages[i],\n",
    "        'salary': salaries[i],\n",
    "        'position': positions[i]\n",
    "    }"
   ]
  },
  {
   "cell_type": "code",
   "execution_count": 85,
   "id": "4ad7d4b0",
   "metadata": {},
   "outputs": [
    {
     "data": {
      "text/plain": [
       "{'mvolkova': {'name': 'Masha',\n",
       "  'surname': 'Volkova',\n",
       "  'age': 25,\n",
       "  'salary': 60000,\n",
       "  'position': 'junior'},\n",
       " 'pvoronov': {'name': 'Peter',\n",
       "  'surname': 'Voronov',\n",
       "  'age': 27,\n",
       "  'salary': 100000,\n",
       "  'position': 'junior'},\n",
       " 'pparker': {'name': 'Peter',\n",
       "  'surname': 'Parker',\n",
       "  'age': 35,\n",
       "  'salary': 150000,\n",
       "  'position': 'middle'},\n",
       " 'akarpov': {'name': 'Anatoly',\n",
       "  'surname': 'Karpov',\n",
       "  'age': 30,\n",
       "  'salary': 250000,\n",
       "  'position': 'senior'}}"
      ]
     },
     "execution_count": 85,
     "metadata": {},
     "output_type": "execute_result"
    }
   ],
   "source": [
    "users"
   ]
  },
  {
   "cell_type": "code",
   "execution_count": null,
   "id": "a12d69ea",
   "metadata": {},
   "outputs": [],
   "source": []
  }
 ],
 "metadata": {
  "kernelspec": {
   "display_name": "Python 3 (ipykernel)",
   "language": "python",
   "name": "python3"
  },
  "language_info": {
   "codemirror_mode": {
    "name": "ipython",
    "version": 3
   },
   "file_extension": ".py",
   "mimetype": "text/x-python",
   "name": "python",
   "nbconvert_exporter": "python",
   "pygments_lexer": "ipython3",
   "version": "3.10.9"
  }
 },
 "nbformat": 4,
 "nbformat_minor": 5
}
